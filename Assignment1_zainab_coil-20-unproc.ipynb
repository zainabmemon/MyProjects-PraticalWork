{
 "cells": [
  {
   "cell_type": "markdown",
   "metadata": {},
   "source": [
    "# Steps"
   ]
  },
  {
   "cell_type": "code",
   "execution_count": null,
   "metadata": {},
   "outputs": [],
   "source": [
    "#importing keras,os and shutil libraries.\n",
    "#checking the dataset directory.\n",
    "#creating train,test,val in prepared folder\n",
    "#creating five classes in test, train ,val\n",
    "#copying images of objs to their respective test ,train ,val\n",
    "#Building model\n",
    "#view model summary\n",
    "#compiling the model\n",
    "#image processing on dataset.\n",
    "#Fit and save the model.\n",
    "#predict an image through model"
   ]
  },
  {
   "cell_type": "code",
   "execution_count": 146,
   "metadata": {},
   "outputs": [
    {
     "data": {
      "text/plain": [
       "'2.3.1'"
      ]
     },
     "execution_count": 146,
     "metadata": {},
     "output_type": "execute_result"
    }
   ],
   "source": [
    "import keras\n",
    "keras.__version__"
   ]
  },
  {
   "cell_type": "code",
   "execution_count": 147,
   "metadata": {},
   "outputs": [
    {
     "name": "stdout",
     "output_type": "stream",
     "text": [
      "C:\\Users\\zaina\n",
      "['obj1__0.png', 'obj1__1.png', 'obj1__10.png', 'obj1__11.png', 'obj1__12.png', 'obj1__13.png', 'obj1__14.png', 'obj1__15.png', 'obj1__16.png', 'obj1__17.png', 'obj1__18.png', 'obj1__19.png', 'obj1__2.png', 'obj1__20.png', 'obj1__21.png', 'obj1__22.png', 'obj1__23.png', 'obj1__24.png', 'obj1__25.png', 'obj1__26.png', 'obj1__27.png', 'obj1__28.png', 'obj1__29.png', 'obj1__3.png', 'obj1__30.png', 'obj1__31.png', 'obj1__32.png', 'obj1__33.png', 'obj1__34.png', 'obj1__35.png', 'obj1__36.png', 'obj1__37.png', 'obj1__38.png', 'obj1__39.png', 'obj1__4.png', 'obj1__40.png', 'obj1__41.png', 'obj1__42.png', 'obj1__43.png', 'obj1__44.png', 'obj1__45.png', 'obj1__46.png', 'obj1__47.png', 'obj1__48.png', 'obj1__49.png', 'obj1__5.png', 'obj1__50.png', 'obj1__51.png', 'obj1__52.png', 'obj1__53.png', 'obj1__54.png', 'obj1__55.png', 'obj1__56.png', 'obj1__57.png', 'obj1__58.png', 'obj1__59.png', 'obj1__6.png', 'obj1__60.png', 'obj1__61.png', 'obj1__62.png', 'obj1__63.png', 'obj1__64.png', 'obj1__65.png', 'obj1__66.png', 'obj1__67.png', 'obj1__68.png', 'obj1__69.png', 'obj1__7.png', 'obj1__70.png', 'obj1__71.png', 'obj1__8.png', 'obj1__9.png', 'obj2__0.png', 'obj2__1.png', 'obj2__10.png', 'obj2__11.png', 'obj2__12.png', 'obj2__13.png', 'obj2__14.png', 'obj2__15.png', 'obj2__16.png', 'obj2__17.png', 'obj2__18.png', 'obj2__19.png', 'obj2__2.png', 'obj2__20.png', 'obj2__21.png', 'obj2__22.png', 'obj2__23.png', 'obj2__24.png', 'obj2__25.png', 'obj2__26.png', 'obj2__27.png', 'obj2__28.png', 'obj2__29.png', 'obj2__3.png', 'obj2__30.png', 'obj2__31.png', 'obj2__32.png', 'obj2__33.png', 'obj2__34.png', 'obj2__35.png', 'obj2__36.png', 'obj2__37.png', 'obj2__38.png', 'obj2__39.png', 'obj2__4.png', 'obj2__40.png', 'obj2__41.png', 'obj2__42.png', 'obj2__43.png', 'obj2__44.png', 'obj2__45.png', 'obj2__46.png', 'obj2__47.png', 'obj2__48.png', 'obj2__49.png', 'obj2__5.png', 'obj2__50.png', 'obj2__51.png', 'obj2__52.png', 'obj2__53.png', 'obj2__54.png', 'obj2__55.png', 'obj2__56.png', 'obj2__57.png', 'obj2__58.png', 'obj2__59.png', 'obj2__6.png', 'obj2__60.png', 'obj2__61.png', 'obj2__62.png', 'obj2__63.png', 'obj2__64.png', 'obj2__65.png', 'obj2__66.png', 'obj2__67.png', 'obj2__68.png', 'obj2__69.png', 'obj2__7.png', 'obj2__70.png', 'obj2__71.png', 'obj2__8.png', 'obj2__9.png', 'obj3__0.png', 'obj3__1.png', 'obj3__10.png', 'obj3__11.png', 'obj3__12.png', 'obj3__13.png', 'obj3__14.png', 'obj3__15.png', 'obj3__16.png', 'obj3__17.png', 'obj3__18.png', 'obj3__19.png', 'obj3__2.png', 'obj3__20.png', 'obj3__21.png', 'obj3__22.png', 'obj3__23.png', 'obj3__24.png', 'obj3__25.png', 'obj3__26.png', 'obj3__27.png', 'obj3__28.png', 'obj3__29.png', 'obj3__3.png', 'obj3__30.png', 'obj3__31.png', 'obj3__32.png', 'obj3__33.png', 'obj3__34.png', 'obj3__35.png', 'obj3__36.png', 'obj3__37.png', 'obj3__38.png', 'obj3__39.png', 'obj3__4.png', 'obj3__40.png', 'obj3__41.png', 'obj3__42.png', 'obj3__43.png', 'obj3__44.png', 'obj3__45.png', 'obj3__46.png', 'obj3__47.png', 'obj3__48.png', 'obj3__49.png', 'obj3__5.png', 'obj3__50.png', 'obj3__51.png', 'obj3__52.png', 'obj3__53.png', 'obj3__54.png', 'obj3__55.png', 'obj3__56.png', 'obj3__57.png', 'obj3__58.png', 'obj3__59.png', 'obj3__6.png', 'obj3__60.png', 'obj3__61.png', 'obj3__62.png', 'obj3__63.png', 'obj3__64.png', 'obj3__65.png', 'obj3__66.png', 'obj3__67.png', 'obj3__68.png', 'obj3__69.png', 'obj3__7.png', 'obj3__70.png', 'obj3__71.png', 'obj3__8.png', 'obj3__9.png', 'obj4__0.png', 'obj4__1.png', 'obj4__10.png', 'obj4__11.png', 'obj4__12.png', 'obj4__13.png', 'obj4__14.png', 'obj4__15.png', 'obj4__16.png', 'obj4__17.png', 'obj4__18.png', 'obj4__19.png', 'obj4__2.png', 'obj4__20.png', 'obj4__21.png', 'obj4__22.png', 'obj4__23.png', 'obj4__24.png', 'obj4__25.png', 'obj4__26.png', 'obj4__27.png', 'obj4__28.png', 'obj4__29.png', 'obj4__3.png', 'obj4__30.png', 'obj4__31.png', 'obj4__32.png', 'obj4__33.png', 'obj4__34.png', 'obj4__35.png', 'obj4__36.png', 'obj4__37.png', 'obj4__38.png', 'obj4__39.png', 'obj4__4.png', 'obj4__40.png', 'obj4__41.png', 'obj4__42.png', 'obj4__43.png', 'obj4__44.png', 'obj4__45.png', 'obj4__46.png', 'obj4__47.png', 'obj4__48.png', 'obj4__49.png', 'obj4__5.png', 'obj4__50.png', 'obj4__51.png', 'obj4__52.png', 'obj4__53.png', 'obj4__54.png', 'obj4__55.png', 'obj4__56.png', 'obj4__57.png', 'obj4__58.png', 'obj4__59.png', 'obj4__6.png', 'obj4__60.png', 'obj4__61.png', 'obj4__62.png', 'obj4__63.png', 'obj4__64.png', 'obj4__65.png', 'obj4__66.png', 'obj4__67.png', 'obj4__68.png', 'obj4__69.png', 'obj4__7.png', 'obj4__70.png', 'obj4__71.png', 'obj4__8.png', 'obj4__9.png', 'obj5__0.png', 'obj5__1.png', 'obj5__10.png', 'obj5__11.png', 'obj5__12.png', 'obj5__13.png', 'obj5__14.png', 'obj5__15.png', 'obj5__16.png', 'obj5__17.png', 'obj5__18.png', 'obj5__19.png', 'obj5__2.png', 'obj5__20.png', 'obj5__21.png', 'obj5__22.png', 'obj5__23.png', 'obj5__24.png', 'obj5__25.png', 'obj5__26.png', 'obj5__27.png', 'obj5__28.png', 'obj5__29.png', 'obj5__3.png', 'obj5__30.png', 'obj5__31.png', 'obj5__32.png', 'obj5__33.png', 'obj5__34.png', 'obj5__35.png', 'obj5__36.png', 'obj5__37.png', 'obj5__38.png', 'obj5__39.png', 'obj5__4.png', 'obj5__40.png', 'obj5__41.png', 'obj5__42.png', 'obj5__43.png', 'obj5__44.png', 'obj5__45.png', 'obj5__46.png', 'obj5__47.png', 'obj5__48.png', 'obj5__49.png', 'obj5__5.png', 'obj5__50.png', 'obj5__51.png', 'obj5__52.png', 'obj5__53.png', 'obj5__54.png', 'obj5__55.png', 'obj5__56.png', 'obj5__57.png', 'obj5__58.png', 'obj5__59.png', 'obj5__6.png', 'obj5__60.png', 'obj5__61.png', 'obj5__62.png', 'obj5__63.png', 'obj5__64.png', 'obj5__65.png', 'obj5__66.png', 'obj5__67.png', 'obj5__68.png', 'obj5__69.png', 'obj5__7.png', 'obj5__70.png', 'obj5__71.png', 'obj5__8.png', 'obj5__9.png', 'prepared']\n"
     ]
    }
   ],
   "source": [
    "import os,shutil\n",
    "\n",
    "print(os.getcwd())\n",
    "\n",
    "#print(os.listdir())\n",
    "\n",
    "path = 'Datasets/coil-20-unproc/'\n",
    "print(os.listdir(path))"
   ]
  },
  {
   "cell_type": "code",
   "execution_count": 148,
   "metadata": {},
   "outputs": [],
   "source": [
    "#creating train,test,val in prepared folder\n",
    "original_dir=os.path.join(path,'prepared')\n",
    "if (not(os.path.exists(original_dir))):\n",
    "    os.mkdir(original_dir)\n",
    "train_dir=os.path.join(original_dir,'train')\n",
    "if (not(os.path.exists(train_dir))):\n",
    "    os.mkdir(train_dir)\n",
    "test_dir=os.path.join(original_dir,'test')\n",
    "if (not(os.path.exists(test_dir))):\n",
    "    os.mkdir(test_dir)\n",
    "val_dir=os.path.join(original_dir,'val')\n",
    "if (not(os.path.exists(val_dir))):\n",
    "    os.mkdir(val_dir)"
   ]
  },
  {
   "cell_type": "code",
   "execution_count": 149,
   "metadata": {},
   "outputs": [],
   "source": [
    "#creating five classes in test, train ,val\n",
    "classes=['obj1','obj2','obj3','obj4','obj5']\n",
    "for i in classes:\n",
    "    train_classes=os.path.join(train_dir,i)\n",
    "    test_classes=os.path.join(test_dir,i)\n",
    "    val_classes=os.path.join(val_dir,i)\n",
    "    if(not(os.path.exists(train_classes))):\n",
    "        os.mkdir(train_classes)\n",
    "    if(not(os.path.exists(test_classes))):\n",
    "        os.mkdir(test_classes)\n",
    "    if(not(os.path.exists(val_classes))):\n",
    "        os.mkdir(val_classes)\n"
   ]
  },
  {
   "cell_type": "code",
   "execution_count": 150,
   "metadata": {},
   "outputs": [],
   "source": [
    "train_obj1_dir=os.path.join(train_dir,'obj1')\n",
    "train_obj2_dir=os.path.join(train_dir,'obj2')\n",
    "train_obj3_dir=os.path.join(train_dir,'obj3')\n",
    "train_obj4_dir=os.path.join(train_dir,'obj4')\n",
    "train_obj5_dir=os.path.join(train_dir,'obj5')\n",
    "\n",
    "test_obj1_dir=os.path.join(test_dir,'obj1')\n",
    "test_obj2_dir=os.path.join(test_dir,'obj2')\n",
    "test_obj3_dir=os.path.join(test_dir,'obj3')\n",
    "test_obj4_dir=os.path.join(test_dir,'obj4')\n",
    "test_obj5_dir=os.path.join(test_dir,'obj5')\n",
    "\n",
    "val_obj1_dir=os.path.join(val_dir,'obj1')\n",
    "val_obj2_dir=os.path.join(val_dir,'obj2')\n",
    "val_obj3_dir=os.path.join(val_dir,'obj3')\n",
    "val_obj4_dir=os.path.join(val_dir,'obj4')\n",
    "val_obj5_dir=os.path.join(val_dir,'obj5')\n"
   ]
  },
  {
   "cell_type": "code",
   "execution_count": 151,
   "metadata": {},
   "outputs": [
    {
     "name": "stdout",
     "output_type": "stream",
     "text": [
      "Datasets/coil-20-unproc/\n"
     ]
    }
   ],
   "source": [
    "#copying images of obj1 to test ,train ,val\n",
    "fnames = ['obj1__{}.png'.format(i) for i in range(42)]\n",
    "print(path)\n",
    "for fname in fnames:\n",
    "    src = os.path.join(path, fname)\n",
    "    dst = os.path.join(train_obj1_dir, fname)\n",
    "    shutil.copyfile(src, dst)\n",
    "fnames = ['obj1__{}.png'.format(i) for i in range(42,57)]\n",
    "for fname in fnames:\n",
    "    src = os.path.join(path, fname)\n",
    "    dst = os.path.join(val_obj1_dir, fname)\n",
    "    shutil.copyfile(src, dst)\n",
    "fnames = ['obj1__{}.png'.format(i) for i in range(57,72)]\n",
    "for fname in fnames:\n",
    "    src = os.path.join(path, fname)\n",
    "    dst = os.path.join(test_obj1_dir, fname)\n",
    "    shutil.copyfile(src, dst)"
   ]
  },
  {
   "cell_type": "code",
   "execution_count": 152,
   "metadata": {},
   "outputs": [
    {
     "name": "stdout",
     "output_type": "stream",
     "text": [
      "Datasets/coil-20-unproc/\n"
     ]
    }
   ],
   "source": [
    "#copying images of obj2 to test ,train ,val\n",
    "fnames = ['obj2__{}.png'.format(i) for i in range(42)]\n",
    "print(path)\n",
    "for fname in fnames:\n",
    "    src = os.path.join(path, fname)\n",
    "    dst = os.path.join(train_obj2_dir, fname)\n",
    "    shutil.copyfile(src, dst)\n",
    "fnames = ['obj2__{}.png'.format(i) for i in range(42,57)]\n",
    "for fname in fnames:\n",
    "    src = os.path.join(path, fname)\n",
    "    dst = os.path.join(val_obj2_dir, fname)\n",
    "    shutil.copyfile(src, dst)\n",
    "fnames = ['obj2__{}.png'.format(i) for i in range(57,72)]\n",
    "for fname in fnames:\n",
    "    src = os.path.join(path, fname)\n",
    "    dst = os.path.join(test_obj2_dir, fname)\n",
    "    shutil.copyfile(src, dst)"
   ]
  },
  {
   "cell_type": "code",
   "execution_count": 153,
   "metadata": {},
   "outputs": [
    {
     "name": "stdout",
     "output_type": "stream",
     "text": [
      "Datasets/coil-20-unproc/\n"
     ]
    }
   ],
   "source": [
    "#copying images of obj3 to test ,train ,val\n",
    "fnames = ['obj3__{}.png'.format(i) for i in range(42)]\n",
    "print(path)\n",
    "for fname in fnames:\n",
    "    src = os.path.join(path, fname)\n",
    "    dst = os.path.join(train_obj3_dir, fname)\n",
    "    shutil.copyfile(src, dst)\n",
    "fnames = ['obj3__{}.png'.format(i) for i in range(42,57)]\n",
    "for fname in fnames:\n",
    "    src = os.path.join(path, fname)\n",
    "    dst = os.path.join(val_obj3_dir, fname)\n",
    "    shutil.copyfile(src, dst)\n",
    "fnames = ['obj3__{}.png'.format(i) for i in range(57,72)]\n",
    "for fname in fnames:\n",
    "    src = os.path.join(path, fname)\n",
    "    dst = os.path.join(test_obj3_dir, fname)\n",
    "    shutil.copyfile(src, dst)"
   ]
  },
  {
   "cell_type": "code",
   "execution_count": 154,
   "metadata": {},
   "outputs": [
    {
     "name": "stdout",
     "output_type": "stream",
     "text": [
      "Datasets/coil-20-unproc/\n"
     ]
    }
   ],
   "source": [
    "#copying images of obj4 to test ,train ,val\n",
    "fnames = ['obj4__{}.png'.format(i) for i in range(42)]\n",
    "print(path)\n",
    "for fname in fnames:\n",
    "    src = os.path.join(path, fname)\n",
    "    dst = os.path.join(train_obj4_dir, fname)\n",
    "    shutil.copyfile(src, dst)\n",
    "fnames = ['obj4__{}.png'.format(i) for i in range(42,57)]\n",
    "for fname in fnames:\n",
    "    src = os.path.join(path, fname)\n",
    "    dst = os.path.join(val_obj4_dir, fname)\n",
    "    shutil.copyfile(src, dst)\n",
    "fnames = ['obj4__{}.png'.format(i) for i in range(57,72)]\n",
    "for fname in fnames:\n",
    "    src = os.path.join(path, fname)\n",
    "    dst = os.path.join(test_obj4_dir, fname)\n",
    "    shutil.copyfile(src, dst)"
   ]
  },
  {
   "cell_type": "code",
   "execution_count": 155,
   "metadata": {},
   "outputs": [
    {
     "name": "stdout",
     "output_type": "stream",
     "text": [
      "Datasets/coil-20-unproc/\n"
     ]
    }
   ],
   "source": [
    "#copying images of obj5 to test ,train ,val\n",
    "fnames = ['obj5__{}.png'.format(i) for i in range(42)]\n",
    "print(path)\n",
    "for fname in fnames:\n",
    "    src = os.path.join(path, fname)\n",
    "    dst = os.path.join(train_obj5_dir, fname)\n",
    "    shutil.copyfile(src, dst)\n",
    "fnames = ['obj5__{}.png'.format(i) for i in range(42,57)]\n",
    "for fname in fnames:\n",
    "    src = os.path.join(path, fname)\n",
    "    dst = os.path.join(val_obj5_dir, fname)\n",
    "    shutil.copyfile(src, dst)\n",
    "fnames = ['obj5__{}.png'.format(i) for i in range(57,72)]\n",
    "for fname in fnames:\n",
    "    src = os.path.join(path, fname)\n",
    "    dst = os.path.join(test_obj5_dir, fname)\n",
    "    shutil.copyfile(src, dst)"
   ]
  },
  {
   "cell_type": "code",
   "execution_count": 156,
   "metadata": {},
   "outputs": [],
   "source": [
    "from keras import layers\n",
    "from keras import models"
   ]
  },
  {
   "cell_type": "code",
   "execution_count": 157,
   "metadata": {},
   "outputs": [],
   "source": [
    "model = models.Sequential()\n",
    "model.add(layers.Conv2D(32, (3, 3), activation='relu', input_shape=(150, 150, 3)))\n",
    "model.add(layers.MaxPooling2D((2, 2)))\n",
    "model.add(layers.Conv2D(64, (3, 3), activation='relu'))\n",
    "model.add(layers.MaxPooling2D((2, 2)))\n",
    "model.add(layers.Conv2D(128, (3, 3), activation='relu'))\n",
    "model.add(layers.MaxPooling2D((2, 2)))\n",
    "model.add(layers.Conv2D(128, (3, 3), activation='relu'))\n",
    "model.add(layers.MaxPooling2D((2, 2)))\n",
    "model.add(layers.Flatten())\n",
    "model.add(layers.Dense(512, activation='relu'))\n",
    "model.add(layers.Dense(5, activation='softmax'))"
   ]
  },
  {
   "cell_type": "code",
   "execution_count": 158,
   "metadata": {},
   "outputs": [
    {
     "name": "stdout",
     "output_type": "stream",
     "text": [
      "Model: \"sequential_9\"\n",
      "_________________________________________________________________\n",
      "Layer (type)                 Output Shape              Param #   \n",
      "=================================================================\n",
      "conv2d_26 (Conv2D)           (None, 148, 148, 32)      896       \n",
      "_________________________________________________________________\n",
      "max_pooling2d_25 (MaxPooling (None, 74, 74, 32)        0         \n",
      "_________________________________________________________________\n",
      "conv2d_27 (Conv2D)           (None, 72, 72, 64)        18496     \n",
      "_________________________________________________________________\n",
      "max_pooling2d_26 (MaxPooling (None, 36, 36, 64)        0         \n",
      "_________________________________________________________________\n",
      "conv2d_28 (Conv2D)           (None, 34, 34, 128)       73856     \n",
      "_________________________________________________________________\n",
      "max_pooling2d_27 (MaxPooling (None, 17, 17, 128)       0         \n",
      "_________________________________________________________________\n",
      "conv2d_29 (Conv2D)           (None, 15, 15, 128)       147584    \n",
      "_________________________________________________________________\n",
      "max_pooling2d_28 (MaxPooling (None, 7, 7, 128)         0         \n",
      "_________________________________________________________________\n",
      "flatten_7 (Flatten)          (None, 6272)              0         \n",
      "_________________________________________________________________\n",
      "dense_13 (Dense)             (None, 512)               3211776   \n",
      "_________________________________________________________________\n",
      "dense_14 (Dense)             (None, 5)                 2565      \n",
      "=================================================================\n",
      "Total params: 3,455,173\n",
      "Trainable params: 3,455,173\n",
      "Non-trainable params: 0\n",
      "_________________________________________________________________\n"
     ]
    }
   ],
   "source": [
    "model.summary()"
   ]
  },
  {
   "cell_type": "code",
   "execution_count": 159,
   "metadata": {},
   "outputs": [],
   "source": [
    "from keras import optimizers\n",
    "\n",
    "model.compile(loss='categorical_crossentropy',\n",
    "              optimizer=optimizers.RMSprop(lr=1e-4),\n",
    "              metrics=['acc'])"
   ]
  },
  {
   "cell_type": "code",
   "execution_count": 160,
   "metadata": {},
   "outputs": [
    {
     "name": "stdout",
     "output_type": "stream",
     "text": [
      "Found 210 images belonging to 5 classes.\n",
      "Found 75 images belonging to 5 classes.\n"
     ]
    }
   ],
   "source": [
    "from keras.preprocessing.image import ImageDataGenerator\n",
    "\n",
    "# All images will be rescaled by 1./255\n",
    "train_datagen = ImageDataGenerator(rescale=1./255)\n",
    "test_datagen = ImageDataGenerator(rescale=1./255)\n",
    "\n",
    "train_generator = train_datagen.flow_from_directory(\n",
    "        # This is the target directory\n",
    "        train_dir,\n",
    "        # All images will be resized to 150x150\n",
    "        target_size=(150, 150),\n",
    "        batch_size=20,\n",
    "        # Since we use categorical_crossentropy loss, we need binary labels\n",
    "        class_mode='categorical')\n",
    "\n",
    "validation_generator = test_datagen.flow_from_directory(\n",
    "        val_dir,\n",
    "        target_size=(150, 150),\n",
    "        batch_size=20,\n",
    "        class_mode='categorical')"
   ]
  },
  {
   "cell_type": "code",
   "execution_count": 162,
   "metadata": {},
   "outputs": [
    {
     "name": "stdout",
     "output_type": "stream",
     "text": [
      "Epoch 1/5\n",
      "14/14 [==============================] - 5s 364ms/step - loss: 0.1568 - acc: 0.9741 - val_loss: 0.1642 - val_acc: 1.0000\n",
      "Epoch 2/5\n",
      "14/14 [==============================] - 5s 349ms/step - loss: 0.0341 - acc: 1.0000 - val_loss: 0.0515 - val_acc: 1.0000\n",
      "Epoch 3/5\n",
      "14/14 [==============================] - 5s 357ms/step - loss: 0.0119 - acc: 1.0000 - val_loss: 0.0529 - val_acc: 1.0000\n",
      "Epoch 4/5\n",
      "14/14 [==============================] - 5s 363ms/step - loss: 0.0035 - acc: 1.0000 - val_loss: 0.0317 - val_acc: 1.0000\n",
      "Epoch 5/5\n",
      "14/14 [==============================] - 5s 388ms/step - loss: 0.0012 - acc: 1.0000 - val_loss: 0.0085 - val_acc: 1.0000\n"
     ]
    }
   ],
   "source": [
    "history = model.fit_generator(\n",
    "      train_generator,\n",
    "      steps_per_epoch=14,\n",
    "      epochs=5,\n",
    "      validation_data=validation_generator,\n",
    "      validation_steps=5)"
   ]
  },
  {
   "cell_type": "code",
   "execution_count": 164,
   "metadata": {},
   "outputs": [],
   "source": [
    "model.save('Datasets/Weights/coil-20-unproc.h5')"
   ]
  },
  {
   "cell_type": "code",
   "execution_count": 165,
   "metadata": {},
   "outputs": [
    {
     "name": "stdout",
     "output_type": "stream",
     "text": [
      "[[0. 0. 1. 0. 0.]]\n",
      "2\n"
     ]
    }
   ],
   "source": [
    "# Predicting se\n",
    "from tensorflow.keras.models import load_model\n",
    "from keras.preprocessing import image\n",
    "import numpy as np\n",
    "\n",
    "classifier = load_model('Datasets/Weights/coil-20-unproc.h5')\n",
    "\n",
    "img=image.load_img('Datasets/coil-20-unproc/prepared/test/obj3/obj3__70.png', target_size=(150, 150))\n",
    "x = image.img_to_array(img)\n",
    "x = np.expand_dims(x, axis=0)\n",
    "images = np.vstack([x])\n",
    "prediction = classifier.predict(images, batch_size=None)\n",
    "print(prediction)\n",
    "print(np.argmax(prediction))\n",
    "\n",
    "import matplotlib.pyplot as plt\n",
    "\n",
    "plt.imshow(img)\n",
    "plt.show()"
   ]
  },
  {
   "cell_type": "code",
   "execution_count": 166,
   "metadata": {},
   "outputs": [
    {
     "data": {
      "image/png": "[encoded data removed]",
      "text/plain": [
       "<Figure size 432x288 with 1 Axes>"
      ]
     },
     "metadata": {
      "needs_background": "light"
     },
     "output_type": "display_data"
    }
   ],
   "source": [
    "#It shows that the image belong to obj3 which is index wise on 2\n",
    "import matplotlib.pyplot as plt\n",
    "\n",
    "plt.imshow(img)\n",
    "plt.show()"
   ]
  },
  {
   "cell_type": "code",
   "execution_count": null,
   "metadata": {},
   "outputs": [],
   "source": []
  }
 ],
 "metadata": {
  "kernelspec": {
   "display_name": "Python 3",
   "language": "python",
   "name": "python3"
  },
  "language_info": {
   "codemirror_mode": {
    "name": "ipython",
    "version": 3
   },
   "file_extension": ".py",
   "mimetype": "text/x-python",
   "name": "python",
   "nbconvert_exporter": "python",
   "pygments_lexer": "ipython3",
   "version": "3.7.3"
  }
 },
 "nbformat": 4,
 "nbformat_minor": 2
}
