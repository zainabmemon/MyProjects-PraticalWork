{
 "cells": [
  {
   "cell_type": "markdown",
   "metadata": {},
   "source": [
    "# Steps"
   ]
  },
  {
   "cell_type": "code",
   "execution_count": null,
   "metadata": {},
   "outputs": [],
   "source": [
    "#importing libraries and checking the directory where dataset is there.\n",
    "#creating folder for augmented images.\n",
    "#defining methods for rotation and horizontalflip.\n",
    "#augmenting 100 images for obj1.\n",
    "#augmenting 50 images for obj3.\n",
    "#plotting bar graph to see the no: of images classwise."
   ]
  },
  {
   "cell_type": "code",
   "execution_count": 9,
   "metadata": {},
   "outputs": [
    {
     "name": "stdout",
     "output_type": "stream",
     "text": [
      "C:\\Users\\zaina\n",
      "['obj1__0.png', 'obj1__1.png', 'obj1__10.png', 'obj1__11.png', 'obj1__12.png', 'obj1__13.png', 'obj1__14.png', 'obj1__15.png', 'obj1__16.png', 'obj1__17.png', 'obj1__18.png', 'obj1__19.png', 'obj1__2.png', 'obj1__20.png', 'obj1__21.png', 'obj1__22.png', 'obj1__23.png', 'obj1__24.png', 'obj1__25.png', 'obj1__26.png', 'obj1__27.png', 'obj1__28.png', 'obj1__29.png', 'obj1__3.png', 'obj1__30.png', 'obj1__31.png', 'obj1__32.png', 'obj1__33.png', 'obj1__34.png', 'obj1__35.png', 'obj1__36.png', 'obj1__37.png', 'obj1__38.png', 'obj1__39.png', 'obj1__4.png', 'obj1__40.png', 'obj1__41.png', 'obj1__42.png', 'obj1__43.png', 'obj1__44.png', 'obj1__45.png', 'obj1__46.png', 'obj1__47.png', 'obj1__48.png', 'obj1__49.png', 'obj1__5.png', 'obj1__50.png', 'obj1__51.png', 'obj1__52.png', 'obj1__53.png', 'obj1__54.png', 'obj1__55.png', 'obj1__56.png', 'obj1__57.png', 'obj1__58.png', 'obj1__59.png', 'obj1__6.png', 'obj1__60.png', 'obj1__61.png', 'obj1__62.png', 'obj1__63.png', 'obj1__64.png', 'obj1__65.png', 'obj1__66.png', 'obj1__67.png', 'obj1__68.png', 'obj1__69.png', 'obj1__7.png', 'obj1__70.png', 'obj1__71.png', 'obj1__8.png', 'obj1__9.png', 'obj2__0.png', 'obj2__1.png', 'obj2__10.png', 'obj2__11.png', 'obj2__12.png', 'obj2__13.png', 'obj2__14.png', 'obj2__15.png', 'obj2__16.png', 'obj2__17.png', 'obj2__18.png', 'obj2__19.png', 'obj2__2.png', 'obj2__20.png', 'obj2__21.png', 'obj2__22.png', 'obj2__23.png', 'obj2__24.png', 'obj2__25.png', 'obj2__26.png', 'obj2__27.png', 'obj2__28.png', 'obj2__29.png', 'obj2__3.png', 'obj2__30.png', 'obj2__31.png', 'obj2__32.png', 'obj2__33.png', 'obj2__34.png', 'obj2__35.png', 'obj2__36.png', 'obj2__37.png', 'obj2__38.png', 'obj2__39.png', 'obj2__4.png', 'obj2__40.png', 'obj2__41.png', 'obj2__42.png', 'obj2__43.png', 'obj2__44.png', 'obj2__45.png', 'obj2__46.png', 'obj2__47.png', 'obj2__48.png', 'obj2__49.png', 'obj2__5.png', 'obj2__50.png', 'obj2__51.png', 'obj2__52.png', 'obj2__53.png', 'obj2__54.png', 'obj2__55.png', 'obj2__56.png', 'obj2__57.png', 'obj2__58.png', 'obj2__59.png', 'obj2__6.png', 'obj2__60.png', 'obj2__61.png', 'obj2__62.png', 'obj2__63.png', 'obj2__64.png', 'obj2__65.png', 'obj2__66.png', 'obj2__67.png', 'obj2__68.png', 'obj2__69.png', 'obj2__7.png', 'obj2__70.png', 'obj2__71.png', 'obj2__8.png', 'obj2__9.png', 'obj3__0.png', 'obj3__1.png', 'obj3__10.png', 'obj3__11.png', 'obj3__12.png', 'obj3__13.png', 'obj3__14.png', 'obj3__15.png', 'obj3__16.png', 'obj3__17.png', 'obj3__18.png', 'obj3__19.png', 'obj3__2.png', 'obj3__20.png', 'obj3__21.png', 'obj3__22.png', 'obj3__23.png', 'obj3__24.png', 'obj3__25.png', 'obj3__26.png', 'obj3__27.png', 'obj3__28.png', 'obj3__29.png', 'obj3__3.png', 'obj3__30.png', 'obj3__31.png', 'obj3__32.png', 'obj3__33.png', 'obj3__34.png', 'obj3__35.png', 'obj3__36.png', 'obj3__37.png', 'obj3__38.png', 'obj3__39.png', 'obj3__4.png', 'obj3__40.png', 'obj3__41.png', 'obj3__42.png', 'obj3__43.png', 'obj3__44.png', 'obj3__45.png', 'obj3__46.png', 'obj3__47.png', 'obj3__48.png', 'obj3__49.png', 'obj3__5.png', 'obj3__50.png', 'obj3__51.png', 'obj3__52.png', 'obj3__53.png', 'obj3__54.png', 'obj3__55.png', 'obj3__56.png', 'obj3__57.png', 'obj3__58.png', 'obj3__59.png', 'obj3__6.png', 'obj3__60.png', 'obj3__61.png', 'obj3__62.png', 'obj3__63.png', 'obj3__64.png', 'obj3__65.png', 'obj3__66.png', 'obj3__67.png', 'obj3__68.png', 'obj3__69.png', 'obj3__7.png', 'obj3__70.png', 'obj3__71.png', 'obj3__8.png', 'obj3__9.png', 'obj4__0.png', 'obj4__1.png', 'obj4__10.png', 'obj4__11.png', 'obj4__12.png', 'obj4__13.png', 'obj4__14.png', 'obj4__15.png', 'obj4__16.png', 'obj4__17.png', 'obj4__18.png', 'obj4__19.png', 'obj4__2.png', 'obj4__20.png', 'obj4__21.png', 'obj4__22.png', 'obj4__23.png', 'obj4__24.png', 'obj4__25.png', 'obj4__26.png', 'obj4__27.png', 'obj4__28.png', 'obj4__29.png', 'obj4__3.png', 'obj4__30.png', 'obj4__31.png', 'obj4__32.png', 'obj4__33.png', 'obj4__34.png', 'obj4__35.png', 'obj4__36.png', 'obj4__37.png', 'obj4__38.png', 'obj4__39.png', 'obj4__4.png', 'obj4__40.png', 'obj4__41.png', 'obj4__42.png', 'obj4__43.png', 'obj4__44.png', 'obj4__45.png', 'obj4__46.png', 'obj4__47.png', 'obj4__48.png', 'obj4__49.png', 'obj4__5.png', 'obj4__50.png', 'obj4__51.png', 'obj4__52.png', 'obj4__53.png', 'obj4__54.png', 'obj4__55.png', 'obj4__56.png', 'obj4__57.png', 'obj4__58.png', 'obj4__59.png', 'obj4__6.png', 'obj4__60.png', 'obj4__61.png', 'obj4__62.png', 'obj4__63.png', 'obj4__64.png', 'obj4__65.png', 'obj4__66.png', 'obj4__67.png', 'obj4__68.png', 'obj4__69.png', 'obj4__7.png', 'obj4__70.png', 'obj4__71.png', 'obj4__8.png', 'obj4__9.png', 'obj5__0.png', 'obj5__1.png', 'obj5__10.png', 'obj5__11.png', 'obj5__12.png', 'obj5__13.png', 'obj5__14.png', 'obj5__15.png', 'obj5__16.png', 'obj5__17.png', 'obj5__18.png', 'obj5__19.png', 'obj5__2.png', 'obj5__20.png', 'obj5__21.png', 'obj5__22.png', 'obj5__23.png', 'obj5__24.png', 'obj5__25.png', 'obj5__26.png', 'obj5__27.png', 'obj5__28.png', 'obj5__29.png', 'obj5__3.png', 'obj5__30.png', 'obj5__31.png', 'obj5__32.png', 'obj5__33.png', 'obj5__34.png', 'obj5__35.png', 'obj5__36.png', 'obj5__37.png', 'obj5__38.png', 'obj5__39.png', 'obj5__4.png', 'obj5__40.png', 'obj5__41.png', 'obj5__42.png', 'obj5__43.png', 'obj5__44.png', 'obj5__45.png', 'obj5__46.png', 'obj5__47.png', 'obj5__48.png', 'obj5__49.png', 'obj5__5.png', 'obj5__50.png', 'obj5__51.png', 'obj5__52.png', 'obj5__53.png', 'obj5__54.png', 'obj5__55.png', 'obj5__56.png', 'obj5__57.png', 'obj5__58.png', 'obj5__59.png', 'obj5__6.png', 'obj5__60.png', 'obj5__61.png', 'obj5__62.png', 'obj5__63.png', 'obj5__64.png', 'obj5__65.png', 'obj5__66.png', 'obj5__67.png', 'obj5__68.png', 'obj5__69.png', 'obj5__7.png', 'obj5__70.png', 'obj5__71.png', 'obj5__8.png', 'obj5__9.png']\n"
     ]
    }
   ],
   "source": [
    "import os,shutil\n",
    "\n",
    "print(os.getcwd())\n",
    "path = 'Datasets/coil-20-unproc/'\n",
    "print(os.listdir(path))\n",
    "length=len(os.listdir(path))"
   ]
  },
  {
   "cell_type": "code",
   "execution_count": 10,
   "metadata": {},
   "outputs": [],
   "source": [
    "aug_dir=os.path.join(path,'augmented_folder')\n",
    "if (not(os.path.exists(aug_dir))):\n",
    "    os.mkdir(aug_dir)"
   ]
  },
  {
   "cell_type": "code",
   "execution_count": 11,
   "metadata": {},
   "outputs": [],
   "source": [
    "import os\n",
    "import random\n",
    "from scipy import ndarray\n",
    "\n",
    "# image processing library\n",
    "import skimage as sk\n",
    "from skimage import transform\n",
    "from skimage import util\n",
    "from skimage import io\n",
    "\n",
    "def random_rotation(image_array: ndarray):\n",
    "    # pick a random degree of rotation between 25% on the left and 25% on the right\n",
    "    random_degree = random.uniform(-25, 25)\n",
    "    return sk.transform.rotate(image_array, random_degree)\n",
    "\n",
    "def horizontal_flip(image_array: ndarray):\n",
    "    # horizontal flip doesn't need skimage, it's easy as flipping the image array of pixels !\n",
    "    return image_array[:, ::-1]\n"
   ]
  },
  {
   "cell_type": "code",
   "execution_count": 12,
   "metadata": {},
   "outputs": [
    {
     "name": "stdout",
     "output_type": "stream",
     "text": [
      "obj1__21.png\n",
      "Datasets/coil-20-unproc/obj1__21.png\n",
      "obj1__28.png\n",
      "Datasets/coil-20-unproc/obj1__28.png\n",
      "obj1__18.png\n",
      "Datasets/coil-20-unproc/obj1__18.png\n"
     ]
    },
    {
     "name": "stderr",
     "output_type": "stream",
     "text": [
      "Lossy conversion from float64 to uint8. Range [0, 1]. Convert image to uint8 prior to saving to suppress this warning.\n",
      "Lossy conversion from float64 to uint8. Range [0, 1]. Convert image to uint8 prior to saving to suppress this warning.\n",
      "Lossy conversion from float64 to uint8. Range [0, 1]. Convert image to uint8 prior to saving to suppress this warning.\n",
      "Lossy conversion from float64 to uint8. Range [0, 1]. Convert image to uint8 prior to saving to suppress this warning.\n"
     ]
    },
    {
     "name": "stdout",
     "output_type": "stream",
     "text": [
      "obj1__30.png\n",
      "Datasets/coil-20-unproc/obj1__30.png\n",
      "obj1__39.png\n",
      "Datasets/coil-20-unproc/obj1__39.png\n",
      "obj1__5.png\n",
      "Datasets/coil-20-unproc/obj1__5.png\n",
      "obj1__19.png\n",
      "Datasets/coil-20-unproc/obj1__19.png\n",
      "obj1__52.png\n",
      "Datasets/coil-20-unproc/obj1__52.png\n",
      "obj1__37.png\n",
      "Datasets/coil-20-unproc/obj1__37.png\n",
      "obj1__42.png\n"
     ]
    },
    {
     "name": "stderr",
     "output_type": "stream",
     "text": [
      "Lossy conversion from float64 to uint8. Range [0, 1]. Convert image to uint8 prior to saving to suppress this warning.\n",
      "Lossy conversion from float64 to uint8. Range [0, 1]. Convert image to uint8 prior to saving to suppress this warning.\n",
      "Lossy conversion from float64 to uint8. Range [0, 1]. Convert image to uint8 prior to saving to suppress this warning.\n"
     ]
    },
    {
     "name": "stdout",
     "output_type": "stream",
     "text": [
      "Datasets/coil-20-unproc/obj1__42.png\n",
      "obj1__8.png\n",
      "Datasets/coil-20-unproc/obj1__8.png\n",
      "obj1__44.png\n",
      "Datasets/coil-20-unproc/obj1__44.png\n",
      "obj1__40.png\n",
      "Datasets/coil-20-unproc/obj1__40.png\n",
      "obj1__33.png\n",
      "Datasets/coil-20-unproc/obj1__33.png\n",
      "obj1__31.png\n",
      "Datasets/coil-20-unproc/obj1__31.png\n",
      "obj1__30.png\n",
      "Datasets/coil-20-unproc/obj1__30.png\n",
      "obj1__18.png\n",
      "Datasets/coil-20-unproc/obj1__18.png\n"
     ]
    },
    {
     "name": "stderr",
     "output_type": "stream",
     "text": [
      "Lossy conversion from float64 to uint8. Range [0, 1]. Convert image to uint8 prior to saving to suppress this warning.\n",
      "Lossy conversion from float64 to uint8. Range [0, 1]. Convert image to uint8 prior to saving to suppress this warning.\n",
      "Lossy conversion from float64 to uint8. Range [0, 1]. Convert image to uint8 prior to saving to suppress this warning.\n",
      "Lossy conversion from float64 to uint8. Range [0, 1]. Convert image to uint8 prior to saving to suppress this warning.\n"
     ]
    },
    {
     "name": "stdout",
     "output_type": "stream",
     "text": [
      "obj1__49.png\n",
      "Datasets/coil-20-unproc/obj1__49.png\n",
      "obj1__13.png\n",
      "Datasets/coil-20-unproc/obj1__13.png\n",
      "obj1__32.png\n",
      "Datasets/coil-20-unproc/obj1__32.png\n",
      "obj1__7.png\n",
      "Datasets/coil-20-unproc/obj1__7.png\n",
      "obj1__38.png\n",
      "Datasets/coil-20-unproc/obj1__38.png\n",
      "obj1__69.png\n",
      "Datasets/coil-20-unproc/obj1__69.png\n",
      "obj1__55.png"
     ]
    },
    {
     "name": "stderr",
     "output_type": "stream",
     "text": [
      "Lossy conversion from float64 to uint8. Range [0, 1]. Convert image to uint8 prior to saving to suppress this warning.\n",
      "Lossy conversion from float64 to uint8. Range [0, 1]. Convert image to uint8 prior to saving to suppress this warning.\n"
     ]
    },
    {
     "name": "stdout",
     "output_type": "stream",
     "text": [
      "\n",
      "Datasets/coil-20-unproc/obj1__55.png\n",
      "obj1__25.png\n",
      "Datasets/coil-20-unproc/obj1__25.png\n",
      "obj1__62.png\n",
      "Datasets/coil-20-unproc/obj1__62.png\n",
      "obj1__10.png\n",
      "Datasets/coil-20-unproc/obj1__10.png\n",
      "obj1__63.png\n",
      "Datasets/coil-20-unproc/obj1__63.png\n",
      "obj1__10.png\n",
      "Datasets/coil-20-unproc/obj1__10.png\n",
      "obj1__15.png\n",
      "Datasets/coil-20-unproc/obj1__15.png\n"
     ]
    },
    {
     "name": "stderr",
     "output_type": "stream",
     "text": [
      "Lossy conversion from float64 to uint8. Range [0, 1]. Convert image to uint8 prior to saving to suppress this warning.\n",
      "Lossy conversion from float64 to uint8. Range [0, 1]. Convert image to uint8 prior to saving to suppress this warning.\n"
     ]
    },
    {
     "name": "stdout",
     "output_type": "stream",
     "text": [
      "obj1__15.png\n",
      "Datasets/coil-20-unproc/obj1__15.png\n",
      "obj1__55.png\n",
      "Datasets/coil-20-unproc/obj1__55.png\n",
      "obj1__50.png\n",
      "Datasets/coil-20-unproc/obj1__50.png\n",
      "obj1__17.png\n",
      "Datasets/coil-20-unproc/obj1__17.png\n",
      "obj1__1.png\n",
      "Datasets/coil-20-unproc/obj1__1.png\n"
     ]
    },
    {
     "name": "stderr",
     "output_type": "stream",
     "text": [
      "Lossy conversion from float64 to uint8. Range [0, 1]. Convert image to uint8 prior to saving to suppress this warning.\n",
      "Lossy conversion from float64 to uint8. Range [0, 1]. Convert image to uint8 prior to saving to suppress this warning.\n"
     ]
    },
    {
     "name": "stdout",
     "output_type": "stream",
     "text": [
      "obj1__22.png\n",
      "Datasets/coil-20-unproc/obj1__22.png\n",
      "obj1__0.png\n",
      "Datasets/coil-20-unproc/obj1__0.png\n",
      "obj1__20.png\n",
      "Datasets/coil-20-unproc/obj1__20.png\n",
      "obj1__42.png\n",
      "Datasets/coil-20-unproc/obj1__42.png\n",
      "obj1__0.png\n",
      "Datasets/coil-20-unproc/obj1__0.png\n",
      "obj1__42.png\n",
      "Datasets/coil-20-unproc/obj1__42.png\n",
      "obj1__11.png\n",
      "Datasets/coil-20-unproc/obj1__11.png\n",
      "obj1__70.png\n",
      "Datasets/coil-20-unproc/obj1__70.png"
     ]
    },
    {
     "name": "stderr",
     "output_type": "stream",
     "text": [
      "Lossy conversion from float64 to uint8. Range [0, 1]. Convert image to uint8 prior to saving to suppress this warning.\n",
      "Lossy conversion from float64 to uint8. Range [0, 1]. Convert image to uint8 prior to saving to suppress this warning.\n",
      "Lossy conversion from float64 to uint8. Range [0, 1]. Convert image to uint8 prior to saving to suppress this warning.\n",
      "Lossy conversion from float64 to uint8. Range [0, 1]. Convert image to uint8 prior to saving to suppress this warning.\n",
      "Lossy conversion from float64 to uint8. Range [0, 1]. Convert image to uint8 prior to saving to suppress this warning.\n"
     ]
    },
    {
     "name": "stdout",
     "output_type": "stream",
     "text": [
      "\n",
      "obj1__60.png\n",
      "Datasets/coil-20-unproc/obj1__60.png\n",
      "obj1__12.png\n",
      "Datasets/coil-20-unproc/obj1__12.png\n",
      "obj1__15.png\n",
      "Datasets/coil-20-unproc/obj1__15.png\n",
      "obj1__48.png\n",
      "Datasets/coil-20-unproc/obj1__48.png\n",
      "obj1__51.png\n",
      "Datasets/coil-20-unproc/obj1__51.png\n",
      "obj1__12.png\n",
      "Datasets/coil-20-unproc/obj1__12.png\n",
      "obj1__23.png"
     ]
    },
    {
     "name": "stderr",
     "output_type": "stream",
     "text": [
      "Lossy conversion from float64 to uint8. Range [0, 1]. Convert image to uint8 prior to saving to suppress this warning.\n",
      "Lossy conversion from float64 to uint8. Range [0, 1]. Convert image to uint8 prior to saving to suppress this warning.\n",
      "Lossy conversion from float64 to uint8. Range [0, 1]. Convert image to uint8 prior to saving to suppress this warning.\n"
     ]
    },
    {
     "name": "stdout",
     "output_type": "stream",
     "text": [
      "\n",
      "Datasets/coil-20-unproc/obj1__23.png\n",
      "obj1__7.png\n",
      "Datasets/coil-20-unproc/obj1__7.png\n",
      "obj1__61.png\n",
      "Datasets/coil-20-unproc/obj1__61.png\n",
      "obj1__28.png\n",
      "Datasets/coil-20-unproc/obj1__28.png\n",
      "obj1__56.png\n",
      "Datasets/coil-20-unproc/obj1__56.png\n",
      "obj1__6.png\n",
      "Datasets/coil-20-unproc/obj1__6.png\n",
      "obj1__63.png"
     ]
    },
    {
     "name": "stderr",
     "output_type": "stream",
     "text": [
      "Lossy conversion from float64 to uint8. Range [0, 1]. Convert image to uint8 prior to saving to suppress this warning.\n",
      "Lossy conversion from float64 to uint8. Range [0, 1]. Convert image to uint8 prior to saving to suppress this warning.\n"
     ]
    },
    {
     "name": "stdout",
     "output_type": "stream",
     "text": [
      "\n",
      "Datasets/coil-20-unproc/obj1__63.png\n",
      "obj1__17.png\n",
      "Datasets/coil-20-unproc/obj1__17.png\n",
      "obj1__63.png\n",
      "Datasets/coil-20-unproc/obj1__63.png\n",
      "obj1__4.png\n",
      "Datasets/coil-20-unproc/obj1__4.png\n",
      "obj1__54.png\n",
      "Datasets/coil-20-unproc/obj1__54.png\n",
      "obj1__5.png\n",
      "Datasets/coil-20-unproc/obj1__5.png\n",
      "obj1__16.png\n",
      "Datasets/coil-20-unproc/obj1__16.png\n",
      "obj1__58.png\n",
      "Datasets/coil-20-unproc/obj1__58.png\n"
     ]
    },
    {
     "name": "stderr",
     "output_type": "stream",
     "text": [
      "Lossy conversion from float64 to uint8. Range [0, 1]. Convert image to uint8 prior to saving to suppress this warning.\n",
      "Lossy conversion from float64 to uint8. Range [0, 1]. Convert image to uint8 prior to saving to suppress this warning.\n",
      "Lossy conversion from float64 to uint8. Range [0, 1]. Convert image to uint8 prior to saving to suppress this warning.\n"
     ]
    },
    {
     "name": "stdout",
     "output_type": "stream",
     "text": [
      "obj1__26.png\n",
      "Datasets/coil-20-unproc/obj1__26.png\n",
      "obj1__57.png\n",
      "Datasets/coil-20-unproc/obj1__57.png\n",
      "obj1__61.png\n",
      "Datasets/coil-20-unproc/obj1__61.png\n",
      "obj1__70.png\n",
      "Datasets/coil-20-unproc/obj1__70.png\n",
      "obj1__53.png\n",
      "Datasets/coil-20-unproc/obj1__53.png\n",
      "obj1__3.png\n",
      "Datasets/coil-20-unproc/obj1__3.png\n",
      "obj1__7.png\n",
      "Datasets/coil-20-unproc/obj1__7.png\n"
     ]
    },
    {
     "name": "stderr",
     "output_type": "stream",
     "text": [
      "Lossy conversion from float64 to uint8. Range [0, 1]. Convert image to uint8 prior to saving to suppress this warning.\n",
      "Lossy conversion from float64 to uint8. Range [0, 1]. Convert image to uint8 prior to saving to suppress this warning.\n",
      "Lossy conversion from float64 to uint8. Range [0, 1]. Convert image to uint8 prior to saving to suppress this warning.\n",
      "Lossy conversion from float64 to uint8. Range [0, 1]. Convert image to uint8 prior to saving to suppress this warning.\n"
     ]
    },
    {
     "name": "stdout",
     "output_type": "stream",
     "text": [
      "obj1__23.png\n",
      "Datasets/coil-20-unproc/obj1__23.png\n",
      "obj1__45.png\n",
      "Datasets/coil-20-unproc/obj1__45.png\n",
      "obj1__43.png\n",
      "Datasets/coil-20-unproc/obj1__43.png\n",
      "obj1__37.png\n",
      "Datasets/coil-20-unproc/obj1__37.png\n",
      "obj1__10.png\n",
      "Datasets/coil-20-unproc/obj1__10.png\n",
      "obj1__47.png\n",
      "Datasets/coil-20-unproc/obj1__47.png\n",
      "obj1__1.png"
     ]
    },
    {
     "name": "stderr",
     "output_type": "stream",
     "text": [
      "Lossy conversion from float64 to uint8. Range [0, 1]. Convert image to uint8 prior to saving to suppress this warning.\n",
      "Lossy conversion from float64 to uint8. Range [0, 1]. Convert image to uint8 prior to saving to suppress this warning.\n",
      "Lossy conversion from float64 to uint8. Range [0, 1]. Convert image to uint8 prior to saving to suppress this warning.\n"
     ]
    },
    {
     "name": "stdout",
     "output_type": "stream",
     "text": [
      "\n",
      "Datasets/coil-20-unproc/obj1__1.png\n",
      "obj1__6.png\n",
      "Datasets/coil-20-unproc/obj1__6.png\n",
      "obj1__71.png\n",
      "Datasets/coil-20-unproc/obj1__71.png\n",
      "obj1__65.png\n",
      "Datasets/coil-20-unproc/obj1__65.png\n",
      "obj1__19.png"
     ]
    },
    {
     "name": "stderr",
     "output_type": "stream",
     "text": [
      "Lossy conversion from float64 to uint8. Range [0, 1]. Convert image to uint8 prior to saving to suppress this warning.\n",
      "Lossy conversion from float64 to uint8. Range [0, 1]. Convert image to uint8 prior to saving to suppress this warning.\n",
      "Lossy conversion from float64 to uint8. Range [0, 1]. Convert image to uint8 prior to saving to suppress this warning.\n",
      "Lossy conversion from float64 to uint8. Range [0, 1]. Convert image to uint8 prior to saving to suppress this warning.\n",
      "Lossy conversion from float64 to uint8. Range [0, 1]. Convert image to uint8 prior to saving to suppress this warning.\n"
     ]
    },
    {
     "name": "stdout",
     "output_type": "stream",
     "text": [
      "\n",
      "Datasets/coil-20-unproc/obj1__19.png\n",
      "obj1__26.png\n",
      "Datasets/coil-20-unproc/obj1__26.png\n",
      "obj1__26.png\n",
      "Datasets/coil-20-unproc/obj1__26.png\n",
      "obj1__25.png\n",
      "Datasets/coil-20-unproc/obj1__25.png\n",
      "obj1__58.png\n",
      "Datasets/coil-20-unproc/obj1__58.png\n",
      "obj1__53.png\n",
      "Datasets/coil-20-unproc/obj1__53.png\n",
      "obj1__63.png\n"
     ]
    },
    {
     "name": "stderr",
     "output_type": "stream",
     "text": [
      "Lossy conversion from float64 to uint8. Range [0, 1]. Convert image to uint8 prior to saving to suppress this warning.\n",
      "Lossy conversion from float64 to uint8. Range [0, 1]. Convert image to uint8 prior to saving to suppress this warning.\n"
     ]
    },
    {
     "name": "stdout",
     "output_type": "stream",
     "text": [
      "Datasets/coil-20-unproc/obj1__63.png\n",
      "obj1__2.png\n",
      "Datasets/coil-20-unproc/obj1__2.png\n",
      "obj1__24.png\n",
      "Datasets/coil-20-unproc/obj1__24.png\n",
      "obj1__70.png\n",
      "Datasets/coil-20-unproc/obj1__70.png\n",
      "obj1__51.png\n"
     ]
    },
    {
     "name": "stderr",
     "output_type": "stream",
     "text": [
      "Lossy conversion from float64 to uint8. Range [0, 1]. Convert image to uint8 prior to saving to suppress this warning.\n",
      "Lossy conversion from float64 to uint8. Range [0, 1]. Convert image to uint8 prior to saving to suppress this warning.\n",
      "Lossy conversion from float64 to uint8. Range [0, 1]. Convert image to uint8 prior to saving to suppress this warning.\n",
      "Lossy conversion from float64 to uint8. Range [0, 1]. Convert image to uint8 prior to saving to suppress this warning.\n"
     ]
    },
    {
     "name": "stdout",
     "output_type": "stream",
     "text": [
      "Datasets/coil-20-unproc/obj1__51.png\n",
      "obj1__45.png\n",
      "Datasets/coil-20-unproc/obj1__45.png\n",
      "obj1__27.png\n",
      "Datasets/coil-20-unproc/obj1__27.png\n",
      "obj1__31.png\n",
      "Datasets/coil-20-unproc/obj1__31.png\n",
      "obj1__0.png\n",
      "Datasets/coil-20-unproc/obj1__0.png\n",
      "obj1__53.png"
     ]
    },
    {
     "name": "stderr",
     "output_type": "stream",
     "text": [
      "Lossy conversion from float64 to uint8. Range [0, 1]. Convert image to uint8 prior to saving to suppress this warning.\n",
      "Lossy conversion from float64 to uint8. Range [0, 1]. Convert image to uint8 prior to saving to suppress this warning.\n"
     ]
    },
    {
     "name": "stdout",
     "output_type": "stream",
     "text": [
      "\n",
      "Datasets/coil-20-unproc/obj1__53.png\n",
      "obj1__65.png\n",
      "Datasets/coil-20-unproc/obj1__65.png\n",
      "obj1__69.png\n",
      "Datasets/coil-20-unproc/obj1__69.png\n",
      "obj1__2.png\n",
      "Datasets/coil-20-unproc/obj1__2.png\n",
      "obj1__26.png\n",
      "Datasets/coil-20-unproc/obj1__26.png\n"
     ]
    }
   ],
   "source": [
    "obj1List=[]\n",
    "List=[0,1]\n",
    "for i in os.listdir(path):\n",
    "    if i.startswith(\"obj1\"):\n",
    "        obj1List.append(i)\n",
    "for i in range(100):\n",
    "    random_image=random.choice(obj1List)\n",
    "    rand=random.choice(List)\n",
    "    print(random_image)\n",
    "    tmp_img = sk.io.imread(os.path.join(path,random_image))\n",
    "    print(os.path.join(path,random_image))\n",
    "    if(rand==0):\n",
    "        aug_img = random_rotation(tmp_img)\n",
    "        io.imsave(aug_dir+\"/rotatedObj1_\"+str(i)+random_image, aug_img)\n",
    "    if(rand==1):\n",
    "        aug_img = horizontal_flip(tmp_img)\n",
    "        io.imsave(aug_dir+\"/flipObj1_\"+str(i)+random_image, aug_img)"
   ]
  },
  {
   "cell_type": "code",
   "execution_count": 13,
   "metadata": {},
   "outputs": [
    {
     "name": "stderr",
     "output_type": "stream",
     "text": [
      "Lossy conversion from float64 to uint8. Range [0, 1]. Convert image to uint8 prior to saving to suppress this warning.\n",
      "Lossy conversion from float64 to uint8. Range [0, 1]. Convert image to uint8 prior to saving to suppress this warning.\n"
     ]
    },
    {
     "name": "stdout",
     "output_type": "stream",
     "text": [
      "obj3__41.png\n",
      "Datasets/coil-20-unproc/obj3__41.png\n",
      "obj3__33.png\n",
      "Datasets/coil-20-unproc/obj3__33.png\n",
      "obj3__49.png\n",
      "Datasets/coil-20-unproc/obj3__49.png\n"
     ]
    },
    {
     "name": "stderr",
     "output_type": "stream",
     "text": [
      "Lossy conversion from float64 to uint8. Range [0, 1]. Convert image to uint8 prior to saving to suppress this warning.\n",
      "Lossy conversion from float64 to uint8. Range [0, 1]. Convert image to uint8 prior to saving to suppress this warning.\n",
      "Lossy conversion from float64 to uint8. Range [0, 1]. Convert image to uint8 prior to saving to suppress this warning.\n",
      "Lossy conversion from float64 to uint8. Range [0, 1]. Convert image to uint8 prior to saving to suppress this warning.\n"
     ]
    },
    {
     "name": "stdout",
     "output_type": "stream",
     "text": [
      "obj3__0.png\n",
      "Datasets/coil-20-unproc/obj3__0.png\n",
      "obj3__7.png\n",
      "Datasets/coil-20-unproc/obj3__7.png\n",
      "obj3__14.png\n",
      "Datasets/coil-20-unproc/obj3__14.png\n",
      "obj3__46.png\n",
      "Datasets/coil-20-unproc/obj3__46.png\n",
      "obj3__24.png\n",
      "Datasets/coil-20-unproc/obj3__24.png\n",
      "obj3__59.png\n",
      "Datasets/coil-20-unproc/obj3__59.png\n",
      "obj3__13.png\n",
      "Datasets/coil-20-unproc/obj3__13.png\n",
      "obj3__50.png\n",
      "Datasets/coil-20-unproc/obj3__50.png\n",
      "obj3__40.png\n",
      "Datasets/coil-20-unproc/obj3__40.png\n"
     ]
    },
    {
     "name": "stderr",
     "output_type": "stream",
     "text": [
      "Lossy conversion from float64 to uint8. Range [0, 1]. Convert image to uint8 prior to saving to suppress this warning.\n",
      "Lossy conversion from float64 to uint8. Range [0, 1]. Convert image to uint8 prior to saving to suppress this warning.\n",
      "Lossy conversion from float64 to uint8. Range [0, 1]. Convert image to uint8 prior to saving to suppress this warning.\n",
      "Lossy conversion from float64 to uint8. Range [0, 1]. Convert image to uint8 prior to saving to suppress this warning.\n"
     ]
    },
    {
     "name": "stdout",
     "output_type": "stream",
     "text": [
      "obj3__3.png\n",
      "Datasets/coil-20-unproc/obj3__3.png\n",
      "obj3__48.png\n",
      "Datasets/coil-20-unproc/obj3__48.png\n",
      "obj3__62.png\n",
      "Datasets/coil-20-unproc/obj3__62.png\n",
      "obj3__33.png\n",
      "Datasets/coil-20-unproc/obj3__33.png\n",
      "obj3__3.png\n",
      "Datasets/coil-20-unproc/obj3__3.png\n",
      "obj3__16.png\n",
      "Datasets/coil-20-unproc/obj3__16.png\n",
      "obj3__8.png\n",
      "Datasets/coil-20-unproc/obj3__8.png\n",
      "obj3__11.png\n",
      "Datasets/coil-20-unproc/obj3__11.png\n",
      "obj3__3.png\n",
      "Datasets/coil-20-unproc/obj3__3.png\n",
      "obj3__53.png\n",
      "Datasets/coil-20-unproc/obj3__53.png\n",
      "obj3__44.png\n"
     ]
    },
    {
     "name": "stderr",
     "output_type": "stream",
     "text": [
      "Lossy conversion from float64 to uint8. Range [0, 1]. Convert image to uint8 prior to saving to suppress this warning.\n",
      "Lossy conversion from float64 to uint8. Range [0, 1]. Convert image to uint8 prior to saving to suppress this warning.\n",
      "Lossy conversion from float64 to uint8. Range [0, 1]. Convert image to uint8 prior to saving to suppress this warning.\n",
      "Lossy conversion from float64 to uint8. Range [0, 1]. Convert image to uint8 prior to saving to suppress this warning.\n",
      "Lossy conversion from float64 to uint8. Range [0, 1]. Convert image to uint8 prior to saving to suppress this warning.\n",
      "Lossy conversion from float64 to uint8. Range [0, 1]. Convert image to uint8 prior to saving to suppress this warning.\n"
     ]
    },
    {
     "name": "stdout",
     "output_type": "stream",
     "text": [
      "Datasets/coil-20-unproc/obj3__44.png\n",
      "obj3__32.png\n",
      "Datasets/coil-20-unproc/obj3__32.png\n",
      "obj3__48.png\n",
      "Datasets/coil-20-unproc/obj3__48.png\n",
      "obj3__64.png\n",
      "Datasets/coil-20-unproc/obj3__64.png\n",
      "obj3__26.png\n",
      "Datasets/coil-20-unproc/obj3__26.png\n",
      "obj3__7.png\n",
      "Datasets/coil-20-unproc/obj3__7.png\n",
      "obj3__68.png\n",
      "Datasets/coil-20-unproc/obj3__68.png\n",
      "obj3__20.png\n",
      "Datasets/coil-20-unproc/obj3__20.png\n",
      "obj3__4.png\n",
      "Datasets/coil-20-unproc/obj3__4.png\n",
      "obj3__25.png\n",
      "Datasets/coil-20-unproc/obj3__25.png\n",
      "obj3__28.png"
     ]
    },
    {
     "name": "stderr",
     "output_type": "stream",
     "text": [
      "Lossy conversion from float64 to uint8. Range [0, 1]. Convert image to uint8 prior to saving to suppress this warning.\n",
      "Lossy conversion from float64 to uint8. Range [0, 1]. Convert image to uint8 prior to saving to suppress this warning.\n",
      "Lossy conversion from float64 to uint8. Range [0, 1]. Convert image to uint8 prior to saving to suppress this warning.\n",
      "Lossy conversion from float64 to uint8. Range [0, 1]. Convert image to uint8 prior to saving to suppress this warning.\n",
      "Lossy conversion from float64 to uint8. Range [0, 1]. Convert image to uint8 prior to saving to suppress this warning.\n",
      "Lossy conversion from float64 to uint8. Range [0, 1]. Convert image to uint8 prior to saving to suppress this warning.\n"
     ]
    },
    {
     "name": "stdout",
     "output_type": "stream",
     "text": [
      "\n",
      "Datasets/coil-20-unproc/obj3__28.png\n",
      "obj3__29.png\n",
      "Datasets/coil-20-unproc/obj3__29.png\n",
      "obj3__62.png\n",
      "Datasets/coil-20-unproc/obj3__62.png\n",
      "obj3__68.png\n",
      "Datasets/coil-20-unproc/obj3__68.png\n",
      "obj3__66.png\n",
      "Datasets/coil-20-unproc/obj3__66.png\n",
      "obj3__68.png\n",
      "Datasets/coil-20-unproc/obj3__68.png\n",
      "obj3__49.png\n",
      "Datasets/coil-20-unproc/obj3__49.png\n",
      "obj3__8.png\n",
      "Datasets/coil-20-unproc/obj3__8.png\n"
     ]
    },
    {
     "name": "stderr",
     "output_type": "stream",
     "text": [
      "Lossy conversion from float64 to uint8. Range [0, 1]. Convert image to uint8 prior to saving to suppress this warning.\n",
      "Lossy conversion from float64 to uint8. Range [0, 1]. Convert image to uint8 prior to saving to suppress this warning.\n",
      "Lossy conversion from float64 to uint8. Range [0, 1]. Convert image to uint8 prior to saving to suppress this warning.\n",
      "Lossy conversion from float64 to uint8. Range [0, 1]. Convert image to uint8 prior to saving to suppress this warning.\n",
      "Lossy conversion from float64 to uint8. Range [0, 1]. Convert image to uint8 prior to saving to suppress this warning.\n"
     ]
    },
    {
     "name": "stdout",
     "output_type": "stream",
     "text": [
      "obj3__59.png\n",
      "Datasets/coil-20-unproc/obj3__59.png\n",
      "obj3__69.png\n",
      "Datasets/coil-20-unproc/obj3__69.png\n",
      "obj3__40.png\n",
      "Datasets/coil-20-unproc/obj3__40.png\n",
      "obj3__13.png\n",
      "Datasets/coil-20-unproc/obj3__13.png\n",
      "obj3__16.png\n",
      "Datasets/coil-20-unproc/obj3__16.png\n",
      "obj3__10.png\n",
      "Datasets/coil-20-unproc/obj3__10.png\n",
      "obj3__7.png"
     ]
    },
    {
     "name": "stderr",
     "output_type": "stream",
     "text": [
      "Lossy conversion from float64 to uint8. Range [0, 1]. Convert image to uint8 prior to saving to suppress this warning.\n"
     ]
    },
    {
     "name": "stdout",
     "output_type": "stream",
     "text": [
      "\n",
      "Datasets/coil-20-unproc/obj3__7.png\n",
      "obj3__44.png\n",
      "Datasets/coil-20-unproc/obj3__44.png\n",
      "obj3__21.png\n",
      "Datasets/coil-20-unproc/obj3__21.png\n",
      "obj3__29.png\n",
      "Datasets/coil-20-unproc/obj3__29.png\n"
     ]
    }
   ],
   "source": [
    "obj3List=[]\n",
    "List=[0,1]\n",
    "for i in os.listdir(path):\n",
    "    if i.startswith(\"obj3\"):\n",
    "        obj3List.append(i)\n",
    "for i in range(50):\n",
    "    random_image=random.choice(obj3List)\n",
    "    rand=random.choice(List)\n",
    "    print(random_image)\n",
    "    tmp_img = sk.io.imread(os.path.join(path,random_image))\n",
    "    print(os.path.join(path,random_image))\n",
    "    if(rand==0):\n",
    "        aug_img = random_rotation(tmp_img)\n",
    "        io.imsave(aug_dir+\"/rotatedObj3\"+str(i)+random_image, aug_img)\n",
    "    if(rand==1):\n",
    "        aug_img = horizontal_flip(tmp_img)\n",
    "        io.imsave(aug_dir+\"/flipObj3\"+str(i)+random_image, aug_img)"
   ]
  },
  {
   "cell_type": "code",
   "execution_count": 16,
   "metadata": {},
   "outputs": [
    {
     "name": "stdout",
     "output_type": "stream",
     "text": [
      "[100, 50]\n"
     ]
    }
   ],
   "source": [
    "obj1=0\n",
    "obj3=0\n",
    "for file in os.listdir(aug_dir):\n",
    "    if file.startswith(\"rotatedObj1\") or file.startswith(\"flipObj1\"):\n",
    "        obj1+=1\n",
    "    if file.startswith(\"rotatedObj3\") or file.startswith(\"flipObj3\"):\n",
    "        obj3+=1  \n",
    "lengthOfClasses=[obj1,obj3]\n",
    "print(lengthOfClasses)"
   ]
  },
  {
   "cell_type": "code",
   "execution_count": 15,
   "metadata": {},
   "outputs": [
    {
     "data": {
      "image/png": "[encoded data removed]",
      "text/plain": [
       "<Figure size 432x288 with 1 Axes>"
      ]
     },
     "metadata": {
      "needs_background": "light"
     },
     "output_type": "display_data"
    }
   ],
   "source": [
    "import matplotlib.pyplot as plt\n",
    "import numpy as np\n",
    "#plt.bar(classes,Listx )\n",
    "#y_pos = np.arange(len(classes))\n",
    "classes=['obj1','obj3']\n",
    "plt.bar(classes, lengthOfClasses, align='center', alpha=0.5, )\n",
    "plt.ylabel('No of augmented Images')\n",
    "plt.xlabel('Classes')\n",
    "plt.margins(0.001)\n",
    "plt.title('Augmented Dataset')\n",
    "#plt.figure(figsize=(100,10000))\n",
    "plt.show()"
   ]
  },
  {
   "cell_type": "code",
   "execution_count": null,
   "metadata": {},
   "outputs": [],
   "source": []
  }
 ],
 "metadata": {
  "kernelspec": {
   "display_name": "Python 3",
   "language": "python",
   "name": "python3"
  },
  "language_info": {
   "codemirror_mode": {
    "name": "ipython",
    "version": 3
   },
   "file_extension": ".py",
   "mimetype": "text/x-python",
   "name": "python",
   "nbconvert_exporter": "python",
   "pygments_lexer": "ipython3",
   "version": "3.7.3"
  }
 },
 "nbformat": 4,
 "nbformat_minor": 2
}
